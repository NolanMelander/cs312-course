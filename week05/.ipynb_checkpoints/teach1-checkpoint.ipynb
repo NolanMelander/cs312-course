{
 "cells": [
  {
   "cell_type": "markdown",
   "metadata": {},
   "source": [
    "![](../images/cs312.png)\n",
    "***\n",
    "\n",
    "# 05 Teach : Team Activity A"
   ]
  },
  {
   "cell_type": "markdown",
   "metadata": {},
   "source": [
    "***\n",
    "## 1 - Objectives\n",
    "\n",
    "- Using bitwise OpenCV functions"
   ]
  },
  {
   "cell_type": "markdown",
   "metadata": {},
   "source": [
    "***\n",
    "## 2 - Overview\n",
    "\n",
    "Today, we will be working on bitwise operations on images.  This is the AND, OR, XOR and NOT operations.\n",
    "\n",
    "[Documentation on Bitwise Operations](http://opencvexamples.blogspot.com/2013/10/bitwise-and-or-xor-and-not.html)"
   ]
  },
  {
   "cell_type": "markdown",
   "metadata": {},
   "source": [
    "***\n",
    "## 3 - Instructions\n",
    "\n",
    "For the team activity, I want you to go through the following video and duplicate what the instructor is doing.  The goal is not to just copy what is in the video, but **understand** what each OpenCV function that hs uses does."
   ]
  },
  {
   "cell_type": "code",
   "execution_count": null,
   "metadata": {},
   "outputs": [],
   "source": [
    "### 3.0 - Setup# These are the libraries used in this notebook - you must run this cell\n",
    "%matplotlib inline\n",
    "import numpy as np\n",
    "import matplotlib.pyplot as plt\n",
    "import cv2\n",
    "\n",
    "# --------------------------------------------------------------------------\n",
    "# This function is handle to display grayscale images in the notebook\n",
    "def _displayImage(img, title):\n",
    "    plt.imshow(img, cmap = 'gray')\n",
    "    plt.title(title), plt.xticks([]), plt.yticks([])\n",
    "    plt.show()\n",
    "\n",
    "def _displayColor(img, title):\n",
    "    imgNew = cv2.cvtColor(img,cv2.COLOR_BGR2RGB)\n",
    "    plt.imshow(imgNew)\n",
    "    plt.title(title), plt.xticks([]), plt.yticks([])\n",
    "    plt.show()"
   ]
  },
  {
   "cell_type": "markdown",
   "metadata": {},
   "source": [
    "### 3.1 - Video Instructions\n",
    "\n",
    "Here is the [video for the activity](https://pythonprogramming.net/image-arithmetics-logic-python-opencv-tutorial/)"
   ]
  },
  {
   "cell_type": "code",
   "execution_count": null,
   "metadata": {},
   "outputs": [],
   "source": [
    "# Place your code here.  Use these images instead of the ones in the video\n",
    "\n",
    "tricycle = cv2.imread('tricycle.jpg')\n",
    "logo = cv2.imread('mainlogo.png')\n"
   ]
  },
  {
   "cell_type": "markdown",
   "metadata": {},
   "source": [
    "### 3.2 - Change the position of the logo\n",
    "\n",
    "Instead of placing the python logo in the top left corner of the tricycle image, place it in the center of the tricycle."
   ]
  },
  {
   "cell_type": "code",
   "execution_count": null,
   "metadata": {},
   "outputs": [],
   "source": [
    "# Place your code here.  Use these images instead of the ones in the video\n",
    "\n",
    "tricycle = cv2.imread('tricycle.jpg')\n",
    "logo = cv2.imread('mainlogo.png')\n"
   ]
  },
  {
   "cell_type": "markdown",
   "metadata": {},
   "source": [
    "### 3.3 - Fill in this function\n",
    "\n",
    "Complete this function that takes in a main image, sub-image and position.  It when blends the sub-image onto the main image at the given position.  Note, that this function returns a **new** image.\n",
    "\n",
    "**main** - numpy image\n",
    "\n",
    "**sub** - numpy image\n",
    "\n",
    "**position** - tuple (x, y)\n"
   ]
  },
  {
   "cell_type": "code",
   "execution_count": null,
   "metadata": {},
   "outputs": [],
   "source": [
    "def blendSubOntoMain(main, sub, position):\n",
    "    pass\n",
    "\n",
    "tricycle = cv2.imread('tricycle.jpg')\n",
    "logo = cv2.imread('mainlogo.png')\n",
    "\n",
    "newImage = blendSubOntoMain(tricycle, logo, (0, 0))\n",
    "_displayColor(newImage, 'newImage')\n",
    "\n",
    "newImage2 = blendSubOntoMain(newImage, logo, (tricycle.shape[0] // 2, \n",
    "                                              tricycle.shape[1] // 2))\n",
    "_displayColor(newImage2, 'newImage2')\n"
   ]
  },
  {
   "cell_type": "markdown",
   "metadata": {},
   "source": [
    "### 3.4 - Try your own blending\n",
    "\n",
    "Once you have the above working with the given images.  Select your own images and try to blend a smaller image onto another image."
   ]
  },
  {
   "cell_type": "code",
   "execution_count": null,
   "metadata": {},
   "outputs": [],
   "source": [
    "# Place your code here"
   ]
  },
  {
   "cell_type": "markdown",
   "metadata": {},
   "source": [
    "***\n",
    "## 4 - Submission\n",
    "There are nothing to submit"
   ]
  }
 ],
 "metadata": {
  "kernelspec": {
   "display_name": "Python 3",
   "language": "python",
   "name": "python3"
  },
  "language_info": {
   "codemirror_mode": {
    "name": "ipython",
    "version": 3
   },
   "file_extension": ".py",
   "mimetype": "text/x-python",
   "name": "python",
   "nbconvert_exporter": "python",
   "pygments_lexer": "ipython3",
   "version": "3.6.4"
  }
 },
 "nbformat": 4,
 "nbformat_minor": 2
}
