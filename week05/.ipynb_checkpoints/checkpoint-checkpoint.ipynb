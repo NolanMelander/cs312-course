{
 "cells": [
  {
   "cell_type": "markdown",
   "metadata": {},
   "source": [
    "![](../images/cs312.png)\n",
    "***\n",
    "\n",
    "# 01 Prepare : CheckPoint \n",
    "\n",
    "## 1 - Objectives\n",
    "\n",
    "- Python 3 and numpy introduction\n",
    "\n",
    "## 2 - Topic\n",
    "\n",
    "Welcome to the first week of CS312.  This week is used to get you \"up to speed\" in the software and tools that we will be using this semester.  It is very important that you install all the software as soon as possible on your computer.\n",
    "\n",
    "### 2.1 - Install software\n",
    "\n",
    "This course requires software to be installed on your computer. Link on [Installing Software](../resources/Software.ipynb) for details on what and how to install the required software.\n",
    "\n",
    "## 3 - Reading\n",
    "\n",
    "- **Python 3**.  Go to this [site](https://developers.google.com/edu/python/) and read through the sections.  Here is another [site](https://www.tutorialspoint.com/python3/) for learning Python 3.\n",
    "- The **numpy** library is very important for working with images.  Here is a [quick start](https://docs.scipy.org/doc/numpy-dev/user/quickstart.html).\n",
    "- **jupyter notebook**.  Here is a [video](https://www.youtube.com/watch?v=HW29067qVWk) on how to use Jupyter.  You can skip the installation part of the video.  Also, the video goes over installing version 2.7 of Python.  We are only using version 3.\n",
    "- **Markdown Language**. When using Jupyter Notebooks, you will need to use MarkDown text.  This is a very simple language to use.  Here is a [video](https://www.youtube.com/watch?v=0_tO8HgJiLQ) and [documentation](https://github.com/adam-p/markdown-here/wiki/Markdown-Cheatsheet) on MarkDown.\n"
   ]
  }
 ],
 "metadata": {
  "kernelspec": {
   "display_name": "Python 3",
   "language": "python",
   "name": "python3"
  },
  "language_info": {
   "codemirror_mode": {
    "name": "ipython",
    "version": 3
   },
   "file_extension": ".py",
   "mimetype": "text/x-python",
   "name": "python",
   "nbconvert_exporter": "python",
   "pygments_lexer": "ipython3",
   "version": "3.6.3"
  }
 },
 "nbformat": 4,
 "nbformat_minor": 2
}
