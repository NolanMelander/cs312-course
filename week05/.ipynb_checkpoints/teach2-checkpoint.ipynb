{
 "cells": [
  {
   "cell_type": "markdown",
   "metadata": {},
   "source": [
    "![](../images/cs312.png)\n",
    "***\n",
    "\n",
    "# 05 Teach : Team Activity B"
   ]
  },
  {
   "cell_type": "markdown",
   "metadata": {},
   "source": [
    "***\n",
    "## 1 - Objectives\n",
    "\n",
    "- Using the OpenCV function seamlessClone()"
   ]
  },
  {
   "cell_type": "markdown",
   "metadata": {},
   "source": [
    "***\n",
    "## 2 - Overview\n",
    "\n",
    "Blending images seamless turnout to be complicated because of differences in color intensities between images.  OpenCV provides a function called seamlessClone() that will blend two images together.\n",
    "\n",
    "Today, I want you to use seamlessClone() to clone some of your images together."
   ]
  },
  {
   "cell_type": "markdown",
   "metadata": {},
   "source": [
    "***\n",
    "## 3 - Instructions\n"
   ]
  },
  {
   "cell_type": "markdown",
   "metadata": {},
   "source": [
    "### 3.0 - Setup"
   ]
  },
  {
   "cell_type": "code",
   "execution_count": null,
   "metadata": {},
   "outputs": [],
   "source": [
    "# 3.0 - Setup# These are the libraries used in this notebook - you must run this cell\n",
    "%matplotlib inline\n",
    "import numpy as np\n",
    "import matplotlib.pyplot as plt\n",
    "import cv2\n",
    "\n",
    "# --------------------------------------------------------------------------\n",
    "# This function is handle to display grayscale images in the notebook\n",
    "def _displayImage(img, title):\n",
    "    plt.imshow(img, cmap = 'gray')\n",
    "    plt.title(title), plt.xticks([]), plt.yticks([])\n",
    "    plt.show()\n",
    "\n",
    "def _displayColor(img, title):\n",
    "    imgNew = cv2.cvtColor(img,cv2.COLOR_BGR2RGB)\n",
    "    plt.imshow(imgNew)\n",
    "    plt.title(title), plt.xticks([]), plt.yticks([])\n",
    "    plt.show()"
   ]
  },
  {
   "cell_type": "markdown",
   "metadata": {},
   "source": [
    "### 3.1 - Using seamlessClone()\n",
    "\n",
    "Below is a code sample that will blend two images together (or clone one onto the other).  It will clone a tricycle on an image of the temple.  "
   ]
  },
  {
   "cell_type": "code",
   "execution_count": null,
   "metadata": {},
   "outputs": [],
   "source": [
    "# Read images\n",
    "src = cv2.imread(\"temple.jpg\")\n",
    "dst = cv2.imread(\"tricycle.jpg\")\n",
    " \n",
    "h = dst.shape[0]\n",
    "w = dst.shape[1]\n",
    "\n",
    "# Create a black mask of the dst image (grayscale)\n",
    "# This mask must contain the smaller image.  It don't need to be\n",
    "# square, it can be any shape.\n",
    "mask = np.ones([h, w], dtype=np.uint8) * 255\n",
    "\n",
    "# Debugging lines\n",
    "# _displayColor(src, 'src')\n",
    "# _displayColor(dst, 'dst')\n",
    "# _displayImage(mask, 'mask')\n",
    "\n",
    "# position the image\n",
    "center = (src.shape[1] // 2, 150)\n",
    " \n",
    "# Clone seamlessly.\n",
    "output = cv2.seamlessClone(dst, src, mask, center, cv2.NORMAL_CLONE)\n",
    " \n",
    "# Save result\n",
    "_displayColor(output, 'output')\n",
    "\n",
    "# You can comment out the follow to save the final image to a file so you\n",
    "# can look at in better detail.\n",
    "\n",
    "# cv2.imwrite('output.png', output)\n"
   ]
  },
  {
   "cell_type": "markdown",
   "metadata": {},
   "source": [
    "### 3.2 - Question 1\n",
    "\n",
    "Notice that the tricycle looks dark.  Can you \"lighten\" the tricycle that is cloned on the temple image?"
   ]
  },
  {
   "cell_type": "markdown",
   "metadata": {},
   "source": [
    "### 3.3 - Question 2\n",
    "\n",
    "Does the shape of the mask effect the results of the clone?"
   ]
  },
  {
   "cell_type": "markdown",
   "metadata": {},
   "source": [
    "### 3.4 - Question 3\n",
    "\n",
    "Does the mash need to be all black in order to work?"
   ]
  },
  {
   "cell_type": "markdown",
   "metadata": {},
   "source": [
    "### 3.5 - Try cloning your own images\n",
    "\n",
    "Try cloning your own images."
   ]
  },
  {
   "cell_type": "markdown",
   "metadata": {},
   "source": [
    "***\n",
    "## 4 - Submission\n",
    "There are nothing to submit"
   ]
  }
 ],
 "metadata": {
  "kernelspec": {
   "display_name": "Python 3",
   "language": "python",
   "name": "python3"
  },
  "language_info": {
   "codemirror_mode": {
    "name": "ipython",
    "version": 3
   },
   "file_extension": ".py",
   "mimetype": "text/x-python",
   "name": "python",
   "nbconvert_exporter": "python",
   "pygments_lexer": "ipython3",
   "version": "3.6.4"
  }
 },
 "nbformat": 4,
 "nbformat_minor": 2
}
