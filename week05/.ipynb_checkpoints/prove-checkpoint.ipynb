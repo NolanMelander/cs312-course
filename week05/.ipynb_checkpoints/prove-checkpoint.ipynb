{
 "cells": [
  {
   "cell_type": "markdown",
   "metadata": {},
   "source": [
    "![](../images/cs312.png)\n",
    "***\n",
    "\n",
    "# 01 Prove\n",
    "\n",
    "## 1 - Objectives\n",
    "\n",
    "- one\n",
    "- two\n",
    "\n",
    "## 2 - Introduction\n",
    "\n",
    "Week 01 will consist of understanding the outline of the course and setting up the software and tools required\n",
    "\n",
    "\n",
    "## 3 - Assignment\n",
    "\n",
    "> this is indented\n",
    "> line two\n",
    "\n",
    "\n",
    "### Part 1 (?%)\n",
    "\n",
    "1. Get it to compile sdfg kusgfe lkuhsgkl hkluwhaekl uhgser \n",
    "1. submit\n",
    "1. sdf lkuhawer *lkuahwfe* kluhwaefl kuhseglk uhsergklu hufh lkauhef lkuhergskl uhsegklu hlkauewhf lkuawhef kluherguh klgh kluhkluhwaefkl uhegur erg \n",
    "\n",
    "\n",
    "### Part 2 (?%)\n",
    "\n",
    "1. idghieurheirugh\n",
    "1. iuheriguheriguh\n",
    "\n",
    "### Stretch Challenge (7%)\n",
    "\n",
    "\n",
    "## 4 - Submission\n",
    "\n",
    "Do all of you coding in this Jupyter Notebook:\n",
    "1. Download this notebook to your computer.\n",
    "1. Run Jupyter Notebook to allow you edit this notebook.\n",
    "1. Write and compile your code here.\n",
    "1. When finished, export to HTML and upload it to I-Learn.\n",
    "\n"
   ]
  }
 ],
 "metadata": {
  "kernelspec": {
   "display_name": "Python 3",
   "language": "python",
   "name": "python3"
  },
  "language_info": {
   "codemirror_mode": {
    "name": "ipython",
    "version": 3
   },
   "file_extension": ".py",
   "mimetype": "text/x-python",
   "name": "python",
   "nbconvert_exporter": "python",
   "pygments_lexer": "ipython3",
   "version": "3.6.3"
  }
 },
 "nbformat": 4,
 "nbformat_minor": 2
}
