{
 "cells": [
  {
   "cell_type": "markdown",
   "metadata": {},
   "source": [
    "![](../images/cs312.png)\n",
    "***\n",
    "\n",
    "# Software used in CS312\n",
    "\n",
    "\n",
    "## 1 - Python 3\n",
    "\n",
    "All of the coding in CS312 will be implimented using Python version 3.  Python will be downloaded using the python package manager conda. (See the next section).  Here is the Python 3 [tutorial](https://docs.python.org/3/tutorial/) and [interactive Python tutorial](http://www.learnpython.org/).\n",
    "\n",
    "\n",
    "## 2 - MiniConda\n",
    "\n",
    "Conda is a python package manager.  Python and all of it's libraries can be difficult to manage (ie., updating a library can cause other libraries to fail).  We will be using a small or miniized version of conda called miniconda.  There is a full version called Anaconda.\n",
    "\n",
    "### 2.1 - Installing Conda\n",
    "\n",
    "- Download miniconda at [miniconda](https://conda.io/miniconda.html).  We need the 64 bit version.\n",
    "- While installing miniconda, make sure that the option to register Anaconda as my default Python 3.6. \n",
    "\n",
    "![](../images/installconda.png)\n",
    "\n",
    "### 2.2 - Running Conda\n",
    "\n",
    "- On your computer, search for \"AnaConda Prompt\".  This is a terminal window where we will use Conda to install libraries and run software.\n",
    "- At the command prompt, type in the following commands one at a time.  Select 'y' when prompted. (I would copy and paste these commands)\n",
    "\n",
    "```\n",
    "    conda install -c conda-forge opencv \n",
    "\n",
    "    conda install matplotlib\n",
    "\n",
    "    conda install jupyter\n",
    "```\n",
    "\n",
    "\n",
    "## 3 - Running Jupyter Notebooks\n",
    "\n",
    "All of the course matterial and assignments are written in [Jupyter Notebook](http://jupyter.org/).  Jupyter notebooks can be viewed directly in GitHub (such as this page).  For the course team activities and assignments, you will be required to be able to modfiy notebooks.  The above steps for Conda installed all of the software that you require.\n",
    "\n",
    "To start Jupyter Notebook:\n",
    "\n",
    "1. Open Anaconda Prompt\n",
    "1. Change directory to where the CS312 course files are located on your computer\n",
    "1. Type \"**jupyter notebook**\"\n",
    "1. A page will be displayed in your computer's Internet browser.  This is the main page of Jupyter.\n",
    "1. When you finished running notebooks, you will need to stop the engine by pressing Ctrl-C twice in the anaconda prompt terminal.\n",
    "\n",
    "\n",
    "## 4 - Visual Studio Code\n",
    "\n",
    "During the course, we will be using the text editor [Visual Studio Code](https://code.visualstudio.com/).  It was selected because it's free and can run on Windows, Mac and Linux.\n",
    "\n",
    "There is one extention that we will be using.  You are free to install any other extensions that you want.\n",
    "\n",
    "![](../images/codeextention.png)\n"
   ]
  }
 ],
 "metadata": {
  "kernelspec": {
   "display_name": "Python 3",
   "language": "python",
   "name": "python3"
  },
  "language_info": {
   "codemirror_mode": {
    "name": "ipython",
    "version": 3
   },
   "file_extension": ".py",
   "mimetype": "text/x-python",
   "name": "python",
   "nbconvert_exporter": "python",
   "pygments_lexer": "ipython3",
   "version": "3.6.3"
  }
 },
 "nbformat": 4,
 "nbformat_minor": 2
}
