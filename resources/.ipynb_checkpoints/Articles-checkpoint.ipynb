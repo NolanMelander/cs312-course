{
 "cells": [
  {
   "cell_type": "markdown",
   "metadata": {},
   "source": [
    "![](../images/cs312.png)\n",
    "***\n",
    "\n",
    "# Articles on Computer Vision / Graphics\n",
    "\n",
    "- You are required to read research articles or watch Computer Vision/Graphics videos and answer questions in a weekly quiz.\n",
    "- You are able to complete the quizzes early (ie., you can work ahead)\n",
    "- I do have links to some articles below and I will be adding to this list during the beginning of the course.\n",
    "- If you read something interesting not linked below, let me know and I will add it to the list.\n",
    "\n",
    "## 1 - Computer Vision\n",
    "\n",
    "\n",
    "- https://www.sciencedaily.com/terms/computer_vision.htm\n",
    "- http://news.mit.edu/topic/computer-vision\n",
    "- https://en.wikipedia.org/wiki/Computer_vision\n",
    "- https://www.newscientist.com/article/2127131-new-computer-vision-challenge-wants-to-teach-robots-to-see-in-3d/\n",
    "- https://www.roboticstomorrow.com/article/2016/07/robot-vision-vs-computer-vision-whats-the-difference/8484\n",
    "- https://www.aoa.org/patients-and-public/caring-for-your-vision/protecting-your-vision/computer-vision-syndrome\n",
    "- https://github.com/maunesh/computer-vision-research-papers\n",
    "\n",
    "\n",
    "## 2 - Computer Graphics\n",
    "\n",
    "- TBA\n",
    "\n"
   ]
  }
 ],
 "metadata": {
  "kernelspec": {
   "display_name": "Python 3",
   "language": "python",
   "name": "python3"
  },
  "language_info": {
   "codemirror_mode": {
    "name": "ipython",
    "version": 3
   },
   "file_extension": ".py",
   "mimetype": "text/x-python",
   "name": "python",
   "nbconvert_exporter": "python",
   "pygments_lexer": "ipython3",
   "version": "3.6.3"
  }
 },
 "nbformat": 4,
 "nbformat_minor": 2
}
