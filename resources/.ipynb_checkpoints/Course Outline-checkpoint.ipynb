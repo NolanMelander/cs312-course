{
 "cells": [
  {
   "cell_type": "markdown",
   "metadata": {},
   "source": [
    "![](../images/cs312.png)\n",
    "***\n",
    "\n",
    "# Welcome to CS312\n",
    "\n",
    "Welcome to Introduction to Computer Vision and Graphics.  The course will be in Python 3 and divided into two sections.  The first section will be on Computer Vision using OpenCV.  The second section will be on Computer Graphics (2D and 3D systems)\n",
    "\n",
    "Much of the in class time will be working in teams on coding problems.\n",
    "\n",
    "## 1 - Week Structure\n",
    "\n",
    "\n",
    "|     Day    |    Activity   |\n",
    "| :--------- | :------------ |\n",
    "|  **Monday**    |  Introduction of the week's topic **AND** Assignment is due|\n",
    "|  **Wednesday** |  Team activity on the topic  |\n",
    "|  **Thursday**  |  Reading Quiz due |\n",
    "|  **Friday**    |  Team activity exploring advanced area of the topic |\n",
    "|  **Saturday**  |  Weekly quiz of class participation is due |\n",
    "\n",
    "\n",
    "## 2 - Assignment\n",
    "\n",
    "Each week you will have an assignment due Monday night.  It will be based on the previous weeks' topic.  There will be 13 assignments.  All assignments will be submitted through I-Learn.\n",
    "\n",
    "We will be using a \"coding style\" in this course.  I think the simplest one that I've seen is [Coding Style](https://gist.github.com/sloria/7001839)\n",
    "\n",
    "## 3 - Quizzes\n",
    "\n",
    "- Each week you will be required to read an article or research paper on the topic of Computer Vision or Computer Graphics.  You will provide feedback on what you learned in a quiz in I-Learn.  I will provide a list of articles that can be read or you can select your own.\n",
    "- Each week you will fill out a quiz on your class participation by Saturday evening.\n",
    "\n",
    "## 4 - Final Project\n",
    "\n",
    "There will be a final project that can be individually or in a small team (2 to 3).  This final project is worth much of the course.  Detail TBA."
   ]
  }
 ],
 "metadata": {
  "kernelspec": {
   "display_name": "Python 3",
   "language": "python",
   "name": "python3"
  },
  "language_info": {
   "codemirror_mode": {
    "name": "ipython",
    "version": 3
   },
   "file_extension": ".py",
   "mimetype": "text/x-python",
   "name": "python",
   "nbconvert_exporter": "python",
   "pygments_lexer": "ipython3",
   "version": "3.6.3"
  }
 },
 "nbformat": 4,
 "nbformat_minor": 2
}
