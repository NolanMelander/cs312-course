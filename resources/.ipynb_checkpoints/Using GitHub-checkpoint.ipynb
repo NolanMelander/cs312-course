{
 "cells": [
  {
   "cell_type": "markdown",
   "metadata": {},
   "source": [
    "![](../images/cs312.png)\n",
    "***\n",
    "\n",
    "# GitHub\n",
    "\n",
    "\n",
    "## 1 - Objectives\n",
    "\n",
    "- Understand what GitHub is.\n",
    "- Understand how to download content from GitHub\n",
    "\n",
    "GitHub is a code hosting platform for version control and collaboration. It lets you and others work together on projects from anywhere.  We use GitHub to host the content of CS312 and I will be making additions and corrections during the semester.  You will be required to create a free GitHub account.  Please go through a [10 minute guide to GitHub](https://guides.github.com/activities/hello-world/).\n",
    "\n",
    "Here is a link to the [CS312 repository](https://github.com/byui-cs/cs312-course)\n",
    "\n",
    "## 2 - Software\n",
    "\n",
    "There are a number of methods of downloading content from GitHub.\n",
    "\n",
    "- Command line.  [Instructions](https://help.github.com/articles/set-up-git/)\n",
    "- Desktop Software. There is a [desktop client](https://desktop.github.com/) from GitHub.  I like using [SourceTree](https://www.sourcetreeapp.com/).\n",
    "\n",
    "## 3 - WARNING!!!\n",
    "\n",
    "It is important that you manage the course files correctly.  If you download the course files from github to your computer and then edit them in that location, note that the next time you pull files from github, you will lose all of your changes.\n",
    "\n",
    "You should:\n",
    "\n",
    "1. Download/Pull course files from github.\n",
    "1. Copy those files to a \"working\" or \"Staging\" area on your computer.\n",
    "1. Edit only those files in the working directories.  This is where you will work on the assignments and team activities.\n",
    "\n",
    "**If you lose your changes because you didn't manage the course files correctly, don't email me about it - just start typing to replace your files!!**"
   ]
  }
 ],
 "metadata": {
  "kernelspec": {
   "display_name": "Python 3",
   "language": "python",
   "name": "python3"
  },
  "language_info": {
   "codemirror_mode": {
    "name": "ipython",
    "version": 3
   },
   "file_extension": ".py",
   "mimetype": "text/x-python",
   "name": "python",
   "nbconvert_exporter": "python",
   "pygments_lexer": "ipython3",
   "version": "3.6.3"
  }
 },
 "nbformat": 4,
 "nbformat_minor": 2
}
