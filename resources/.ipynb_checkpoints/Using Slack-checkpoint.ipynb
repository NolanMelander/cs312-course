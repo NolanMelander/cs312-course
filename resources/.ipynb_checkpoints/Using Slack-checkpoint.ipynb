{
 "cells": [
  {
   "cell_type": "markdown",
   "metadata": {},
   "source": [
    "![](../images/cs312.png)\n",
    "***\n",
    "\n",
    "# Slack\n",
    "\n",
    "\n",
    "## 1 - Objectives\n",
    "\n",
    "- Understand what Slack is.\n",
    "- Understand how to connect to Slack\n",
    "- Understand Slack etiquette\n",
    "\n",
    "Slack is an team communication service that we'll be using for this class. It's like a chat room, but with a lot of extra features that make it ideal for software teams. Many major organizations use Slack for their team communications.\n",
    "\n",
    "The instructor will set up a Slack organization for this course, and provide instructions about signing up for it. Once you are signed up, you can [download a Slack client](https://slack.com/downloads/) for your computer or mobile device.\n",
    "\n",
    "The channel for CS312 for this semester is https://join.slack.com/t/byui-cs312-18w/signup. This link will use your BYU Idaho email address.\n",
    "\n",
    "## 2 - Slack Channels\n",
    "\n",
    "Communication in Slack is divided into channels. Most of our class-wide communication will happen in the **#general** channel.\n",
    "\n",
    "Once teams have been established, private team channels will be created for each team to use.\n",
    "\n",
    "In addition, you can send direct messages to your instructor (or to other students). In fact, if you have a pressing question about something, you can often get a response faster by sending a direct message to the instructor on Slack than by emailing.\n",
    "\n",
    "\n",
    "## 3 - Slack Etiquette\n",
    "\n",
    "It's important to be professional in your online communications. Aside from the standard guidelines of not using ALL-CAPS TO COMMUNICATE and speaking respectfully, you should be aware of [Slack-specific etiquette](http://blog.invoca.com/7-rules-every-professional-needs-to-know-about-slack-etiquette/?utm_source=social&utm_medium=linkedin)."
   ]
  }
 ],
 "metadata": {
  "kernelspec": {
   "display_name": "Python 3",
   "language": "python",
   "name": "python3"
  },
  "language_info": {
   "codemirror_mode": {
    "name": "ipython",
    "version": 3
   },
   "file_extension": ".py",
   "mimetype": "text/x-python",
   "name": "python",
   "nbconvert_exporter": "python",
   "pygments_lexer": "ipython3",
   "version": "3.6.3"
  }
 },
 "nbformat": 4,
 "nbformat_minor": 2
}
