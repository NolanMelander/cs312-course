{
 "cells": [
  {
   "cell_type": "markdown",
   "metadata": {},
   "source": [
    "![](../images/cs312.png)\n",
    "***\n",
    "\n",
    "# Outline of CS312\n",
    "\n",
    "Welcome to Introduction to Computer Vision and Graphics.  The course will be in Python 3 and divided into two sections.  The first section will be on Computer Vision using OpenCV.  The second section will be on Graphics (2D and 3D systems)\n",
    "\n",
    "Much of the in class time will be working in teams on coding problems.\n",
    "\n",
    "## 1 - Week Structure\n",
    "\n",
    "\n",
    "|     Day    |    Activity   |\n",
    "|:-----------|:--------------|\n",
    "|  **Monday**    |  Introduction of the week's topic |\n",
    "|  **Tuesday**   |  Checkpoint due |\n",
    "|  **Wednesday** |  Team activity on the topic  |\n",
    "|  **Friday**    |  Team activity exploring advanced area of the topic |\n",
    "|  **Saturday**  |  Weekly quiz based an article you read is due |\n",
    "\n",
    "\n",
    "## 2 - Check Points\n",
    "\n",
    "Each Tuesday evening, you will have a programming check point.  Theses check points are used by me to know if you did the reading for the week.  They are to be completed individually (ie., not in teams).\n",
    "\n",
    "\n",
    "## 3 - Quizzes\n",
    "\n",
    "Each week you will be required to read an article or research paper on the topic of Computer Vision or Computer Graphics.  You will provide feedback on what you learned in a quiz in I-Learn.  I will provide a list of articles that can be read or you can select your own.\n",
    "\n",
    "\n",
    "## 4 - Projects\n",
    "\n",
    "There will be ???\n",
    "\n",
    "\n",
    "## 4 - Final Project\n",
    "\n",
    "There will be a final project that can be individually or in a small team (2 to 3).  This final project is worth much of the course."
   ]
  }
 ],
 "metadata": {
  "kernelspec": {
   "display_name": "Python 3",
   "language": "python",
   "name": "python3"
  },
  "language_info": {
   "codemirror_mode": {
    "name": "ipython",
    "version": 3
   },
   "file_extension": ".py",
   "mimetype": "text/x-python",
   "name": "python",
   "nbconvert_exporter": "python",
   "pygments_lexer": "ipython3",
   "version": "3.6.3"
  }
 },
 "nbformat": 4,
 "nbformat_minor": 2
}
