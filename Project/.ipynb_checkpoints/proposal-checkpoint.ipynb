{
 "cells": [
  {
   "cell_type": "markdown",
   "metadata": {},
   "source": [
    "![](../images/cs312.png)\n",
    "***\n",
    "\n",
    "# Course Project\n",
    "\n",
    "You are required to complete a course project in the area of Computer Vision or Graphics.  This project can be in teams or individually.  This proposal must be approved by me before you should start working it.\n",
    "\n",
    "Please fill out the following notebook."
   ]
  },
  {
   "cell_type": "markdown",
   "metadata": {},
   "source": [
    "***\n",
    "## 1 - Project Title\n",
    "\n",
    "What is your title?"
   ]
  },
  {
   "cell_type": "markdown",
   "metadata": {},
   "source": [
    "**Enter title here**"
   ]
  },
  {
   "cell_type": "markdown",
   "metadata": {},
   "source": [
    "***\n",
    "## 2 - Groups members or Individual\n",
    "\n",
    "I need names and email addresses.  If you are a group, only submit one proposal and indicate which group member is the \"leader\".  Edit the following markdown table."
   ]
  },
  {
   "cell_type": "markdown",
   "metadata": {},
   "source": [
    "| Name | Email  | Leader?  |\n",
    "|------ |----- |--- |\n",
    "| your name    | address | ?  |\n"
   ]
  },
  {
   "cell_type": "markdown",
   "metadata": {},
   "source": [
    "***\n",
    "## 3 - Summary\n",
    "\n",
    "What does your project plan to accomplish?\n",
    "\n",
    "1. Put item here\n",
    "1. Put item here\n",
    "1. Put item here\n",
    "1. Put item here\n",
    "1. Put item here\n",
    "\n",
    "**Links to photos/videos/web sites**\n",
    "\n",
    "[Item](http://link)\n",
    "\n",
    "[Item](http://link)\n",
    "\n",
    "[Item](http://link)\n",
    "\n",
    "[Item](http://link)\n",
    "\n"
   ]
  },
  {
   "cell_type": "markdown",
   "metadata": {},
   "source": [
    "***\n",
    "## 4 - Goals\n",
    "\n",
    "How will you and others know if you are successful?  What will success look like?  If you are adding to an existing project, what will you be adding?\n",
    "\n",
    "What you indicate here will be used to grade your project.\n",
    "\n",
    "1. goal\n",
    "1. goal\n",
    "1. goal\n",
    "1. goal\n",
    "1. goal\n",
    "\n"
   ]
  },
  {
   "cell_type": "markdown",
   "metadata": {},
   "source": [
    "***\n",
    "## 5 - Technology\n",
    "\n",
    "Libraries or open source code that you will be using.  This is important, if you are adding to something that already exists (project, research paper, github project, etc…), you need to indicate it here.\n",
    "\n",
    "1. add here. Web links. Video Links\n",
    "1. add here. Web links. Video Links\n",
    "1. add here. Web links. Video Links\n",
    "1. add here. Web links. Video Links\n",
    "1. add here. Web links. Video Links\n",
    "1. add here. Web links. Video Links\n"
   ]
  },
  {
   "cell_type": "markdown",
   "metadata": {},
   "source": [
    "***\n",
    "## 6 - Other comments or notes\n",
    "\n",
    "Do I need to know anything else about your project?\n",
    "\n",
    "\"add here\""
   ]
  },
  {
   "cell_type": "markdown",
   "metadata": {},
   "source": [
    "***\n",
    "## 7 - How to submit your proposal\n",
    "\n",
    "- Download this notebook and edit it.\n",
    "- Export to MarkDown and upload ZIP file to I-Learn."
   ]
  }
 ],
 "metadata": {
  "kernelspec": {
   "display_name": "Python 3",
   "language": "python",
   "name": "python3"
  },
  "language_info": {
   "codemirror_mode": {
    "name": "ipython",
    "version": 3
   },
   "file_extension": ".py",
   "mimetype": "text/x-python",
   "name": "python",
   "nbconvert_exporter": "python",
   "pygments_lexer": "ipython3",
   "version": "3.6.4"
  }
 },
 "nbformat": 4,
 "nbformat_minor": 2
}
