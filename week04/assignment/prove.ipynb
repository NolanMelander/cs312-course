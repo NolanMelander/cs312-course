{
 "cells": [
  {
   "cell_type": "markdown",
   "metadata": {},
   "source": [
    "![](../../images/cs312.png)\n",
    "***\n",
    "\n",
    "# 04 Prove - Assignment\n",
    "\n",
    "## 1 - Objectives\n",
    "\n",
    "- In this assignment, you will edit short videos by applying image filters on them.\n",
    "\n",
    "### 1.1 - Reading References\n",
    "\n",
    "- https://docs.opencv.org/3.0-beta/modules/imgproc/doc/filtering.html\n",
    "- https://docs.opencv.org/2.4/modules/imgproc/doc/filtering.html?highlight=filter2d#filter2d\n",
    "- https://docs.opencv.org/3.0-beta/doc/py_tutorials/py_gui/py_video_display/py_video_display.html\n"
   ]
  },
  {
   "cell_type": "markdown",
   "metadata": {},
   "source": [
    "## 2 - Introduction\n",
    "\n",
    "- In the past assignments, you have been applying filters to single images.  A video is just a sequence of images.\n",
    "- The code given in this assignment will allow you to seperate the images of a video and to combine them together into a new video file.\n",
    "- Special care must be taken with the size of the videos (ie., large videos will take a long time to process).  Also, make sure you understand the size (width and height) of the video images and their channels.  This will be important while applying filters on them."
   ]
  },
  {
   "cell_type": "code",
   "execution_count": null,
   "metadata": {},
   "outputs": [],
   "source": [
    "# These are the libraries used in this notebook - you must run this cell\n",
    "%matplotlib inline\n",
    "import numpy as np\n",
    "import matplotlib.pyplot as plt\n",
    "import cv2"
   ]
  },
  {
   "cell_type": "markdown",
   "metadata": {},
   "source": [
    "***\n",
    "## 3 - Assignment\n",
    "\n",
    "This assignment has two parts."
   ]
  },
  {
   "cell_type": "markdown",
   "metadata": {},
   "source": [
    "### 3.1 - Part 1 - Add a filter to the given video file\n",
    "\n",
    "1. After you download all of the files for this assignment, you will find the file \"sample.mp4\".\n",
    "1. You will be required to apply a filter to this video - one frame at a time and then create a new video from those frames.\n",
    "1. You are free to use any OpenCV/numpy functions or functions from previous assignments.\n",
    "1. **Note** that the goal is for you to show that you were able to apply a filter to the video.  I need to be able to **see the results** of that filter.\n",
    "1. You will be required to provide a link to your resulting video so that I can view it.  Use DropBox, OneDrive, YouTube, etc..."
   ]
  },
  {
   "cell_type": "code",
   "execution_count": null,
   "metadata": {},
   "outputs": [],
   "source": [
    "# Open the sample video\n",
    "cap = cv2.VideoCapture('sample.mp4')\n",
    "\n",
    "# Read the first frame and get the height, width and number of color channels\n",
    "ret, frame = cap.read()\n",
    "height, width, channels = frame.shape\n",
    "\n",
    "# Output video must be the same size as the input in this example\n",
    "fourcc = cv2.VideoWriter_fourcc(*'mp4v') # Be sure to use lower case\n",
    "out = cv2.VideoWriter('output.mp4', fourcc, 25.0, (width, height))\n",
    "\n",
    "# Release the video in and open it again\n",
    "cap.release()\n",
    "cap = cv2.VideoCapture('sample.mp4')\n",
    "\n",
    "ret = True\n",
    "while (ret and cap.isOpened()):\n",
    "    ret, frame = cap.read()\n",
    "    if ret == True:\n",
    "\n",
    "        # TODO - add you filter here\n",
    "        \n",
    "        # Write the changed frame out\n",
    "        out.write(frame)\n",
    "        \n",
    "# When everything done, release the capture\n",
    "out.release()\n",
    "cap.release()\n",
    "\n",
    "print('Finished')"
   ]
  },
  {
   "cell_type": "markdown",
   "metadata": {},
   "source": [
    "### 3.1.1 - Resulting video\n",
    "\n",
    "TODO - Place your link here\n",
    "\n",
    "TODO - Question: Describe your filter and the results (single sentence answers will not be accepted)\n",
    "\n"
   ]
  },
  {
   "cell_type": "markdown",
   "metadata": {},
   "source": [
    "***\n",
    "### 3.2 - Part 2 - Your own videos\n",
    "\n",
    "1. Using your cell phone or camera, take a video of some interesting.  Be careful not to take a video that is too long or too large in height and width.  There is software that can edit videos.\n",
    "1. You will be required to create three videos where you apply a different filter to each.  You can use three different videos if you want.  Be creative!\n",
    "1. **Note** that the goal is for you to show that you were able to apply a filter to the video.  I need to be able to **see the results** of that filter.\n",
    "1. You will be required to provide link(s) to your resulting video so that I can view it.  Use DropBox, OneDrive, YouTube, etc...\n",
    "1. You can either provide all of your code in the following cell, or provide the code for each type of filter in their own cell.  It needs to be easy to understand what your code does."
   ]
  },
  {
   "cell_type": "code",
   "execution_count": null,
   "metadata": {},
   "outputs": [],
   "source": [
    "# Add your code here.\n"
   ]
  },
  {
   "cell_type": "markdown",
   "metadata": {},
   "source": [
    "### 3.2.1 - Link 1"
   ]
  },
  {
   "cell_type": "markdown",
   "metadata": {},
   "source": [
    "Place your link here\n",
    "\n",
    "Question: Describe your filter and the results (single sentence answers will not be accepted)\n",
    "\n",
    "TODO - Add your comments and link here"
   ]
  },
  {
   "cell_type": "markdown",
   "metadata": {},
   "source": [
    "### 3.2.2 - Link 2"
   ]
  },
  {
   "cell_type": "markdown",
   "metadata": {},
   "source": [
    "Place your link here\n",
    "\n",
    "Question: Describe your filter and the results (single sentence answers will not be accepted)\n",
    "\n",
    "TODO - Add your comments and link here"
   ]
  },
  {
   "cell_type": "markdown",
   "metadata": {},
   "source": [
    "### 3.2.2 - Link 3"
   ]
  },
  {
   "cell_type": "markdown",
   "metadata": {},
   "source": [
    "Place your link here\n",
    "\n",
    "Question: Describe your filter and the results (single sentence answers will not be accepted)\n",
    "\n",
    "TODO - Add your comments and link here"
   ]
  },
  {
   "cell_type": "markdown",
   "metadata": {},
   "source": [
    "***\n",
    "## 4 - Rubric\n",
    "\n",
    "It is your responsibility to show that your assignment clearly satisfies the rubric.  Use as many tests to show that your assignment deserves the grade it should get.\n",
    "\n",
    "| Task | Points |\n",
    "|------|-----|\n",
    "| Part 1 - applying filter to a video | 30 |\n",
    "| Part 2 - video 1 | 20 |\n",
    "| Part 2 - video 2 | 20 |\n",
    "| Part 2 - video 3 | 20 |\n",
    "| Coding style and Presentation | 10 |\n",
    "|------|-----|\n",
    "| Total | 100  |\n",
    "\n"
   ]
  },
  {
   "cell_type": "markdown",
   "metadata": {},
   "source": [
    "***\n",
    "## 5 - Submission\n",
    "\n",
    "Do all of you coding in this Jupyter Notebook:\n",
    "1. Download this notebook to your computer.\n",
    "1. Run Jupyter Notebook to allow you edit this notebook.\n",
    "1. Write and compile your code in the notebook.\n",
    "1. When finished, run all cells, export to MarkDown and upload the ZIP file to I-Learn.\n",
    "1. **TEST YOUR LINKS**. The best method for testing your links is to send your html file that you will be submitting to a friend to test.  Or at least, open your html file in the browser in \"incognito\" mode and test your links.\n"
   ]
  }
 ],
 "metadata": {
  "kernelspec": {
   "display_name": "Python 3",
   "language": "python",
   "name": "python3"
  },
  "language_info": {
   "codemirror_mode": {
    "name": "ipython",
    "version": 3
   },
   "file_extension": ".py",
   "mimetype": "text/x-python",
   "name": "python",
   "nbconvert_exporter": "python",
   "pygments_lexer": "ipython3",
   "version": "3.6.4"
  }
 },
 "nbformat": 4,
 "nbformat_minor": 2
}
