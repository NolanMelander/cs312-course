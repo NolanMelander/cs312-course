{
 "cells": [
  {
   "cell_type": "markdown",
   "metadata": {},
   "source": [
    "![](../images/cs312.png)\n",
    "***\n",
    "\n",
    "# 04 Teach : Team Activity B"
   ]
  },
  {
   "cell_type": "markdown",
   "metadata": {},
   "source": [
    "***\n",
    "## 1 - Objectives\n",
    "\n",
    "- OpenCV to detect edges with Canny.\n",
    "- Using OpenCV to capture frames from a video or computer camera."
   ]
  },
  {
   "cell_type": "markdown",
   "metadata": {},
   "source": [
    "***\n",
    "## 2 - Overview\n",
    "\n",
    "Kernels are very useful in filtering images in that they are very fast to process and easy to setup.  The Canny method uses a combination of kernels and processing on images to produce edges.\n",
    "\n",
    "We will be using the canny function in OpenCV for the activity today.\n",
    "\n",
    "https://docs.opencv.org/3.3.1/da/d22/tutorial_py_canny.html\n",
    "\n",
    "Here are the arguments of the function canny() from the Opencv website.  There are three arguments that you can use for this function:\n",
    "\n",
    "> OpenCV puts all the above in single function, cv2.Canny(). We will see how to use it. First argument is our **input image**. Second and third arguments are our **minVal** and **maxVal** respectively. Third argument is aperture_size. It is the size of Sobel kernel used for find image gradients. By default it is 3. Last argument is L2gradient which specifies the equation for finding gradient magnitude. If it is True, it uses the equation mentioned above which is more accurate, otherwise it uses this function: Edge\\_Gradient \\; (G) = |G_x| + |G_y|. By default, it is False.\n",
    "\n"
   ]
  },
  {
   "cell_type": "markdown",
   "metadata": {},
   "source": [
    "***\n",
    "## 3 - Instructions\n",
    "\n",
    "Program the following problems and answer any questions."
   ]
  },
  {
   "cell_type": "code",
   "execution_count": null,
   "metadata": {},
   "outputs": [],
   "source": [
    "### 3.0 - Setup# These are the libraries used in this notebook - you must run this cell\n",
    "%matplotlib inline\n",
    "import numpy as np\n",
    "import matplotlib.pyplot as plt\n",
    "import cv2\n",
    "\n",
    "# --------------------------------------------------------------------------\n",
    "# This function is handle to display grayscale images in the notebook\n",
    "def _displayImage(img, title):\n",
    "    plt.imshow(img, cmap = 'gray')\n",
    "    plt.title(title), plt.xticks([]), plt.yticks([])\n",
    "    plt.show()"
   ]
  },
  {
   "cell_type": "markdown",
   "metadata": {},
   "source": [
    "### 3.1 - Canny\n",
    "\n",
    "In this section, take any image that you have taken (or from the Internet) and apply a canny filter on it.\n",
    "\n",
    "[Using Canny function](https://docs.opencv.org/trunk/da/d22/tutorial_py_canny.html)"
   ]
  },
  {
   "cell_type": "code",
   "execution_count": null,
   "metadata": {},
   "outputs": [],
   "source": [
    "# TODO - add your code here"
   ]
  },
  {
   "cell_type": "markdown",
   "metadata": {},
   "source": [
    "### 3.2 - Video Capture\n",
    "\n",
    "Here, either capture the frames from a video file or the computer camera.  Experiment with different video file types, frame rates, saving frames, filtering frames.  Refer to this weeks lesson documentation for details on video capturing."
   ]
  },
  {
   "cell_type": "code",
   "execution_count": null,
   "metadata": {},
   "outputs": [],
   "source": [
    "# TODO - add your code here"
   ]
  },
  {
   "cell_type": "markdown",
   "metadata": {},
   "source": [
    "***\n",
    "## 4 - Submission\n",
    "\n",
    "There are nothing to submit.  You are free to discuss this acitivity on the course Slack account."
   ]
  }
 ],
 "metadata": {
  "kernelspec": {
   "display_name": "Python 3",
   "language": "python",
   "name": "python3"
  },
  "language_info": {
   "codemirror_mode": {
    "name": "ipython",
    "version": 3
   },
   "file_extension": ".py",
   "mimetype": "text/x-python",
   "name": "python",
   "nbconvert_exporter": "python",
   "pygments_lexer": "ipython3",
   "version": "3.6.4"
  }
 },
 "nbformat": 4,
 "nbformat_minor": 2
}
